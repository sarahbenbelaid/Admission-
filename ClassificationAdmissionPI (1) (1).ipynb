{
 "cells": [
  {
   "cell_type": "markdown",
   "id": "e051c23b-d9cf-4a35-a641-bded8972b8b1",
   "metadata": {},
   "source": [
    "## Connexion à la base de données"
   ]
  },
  {
   "cell_type": "code",
   "execution_count": 1,
   "id": "c46ce690-27a1-4240-9e18-231bb88ca6e2",
   "metadata": {},
   "outputs": [
    {
     "name": "stdout",
     "output_type": "stream",
     "text": [
      "Connexion réussie !\n"
     ]
    }
   ],
   "source": [
    "import pyodbc\n",
    "import pandas as pd\n",
    "\n",
    "# Paramètres de connexion\n",
    "server = 'LAPTOP-VAILS20L' \n",
    "database = 'DW_PI' \n",
    "username = 'sa'  \n",
    "password = 'sa123' \n",
    "driver = '{SQL Server}'\n",
    "\n",
    "# Connexion à SQL Server\n",
    "try:\n",
    "    conn = pyodbc.connect(\n",
    "        f'DRIVER={driver};SERVER={server};DATABASE={database};UID={username};PWD={password}'\n",
    "    )\n",
    "    print(\"Connexion réussie !\")\n",
    "except Exception as e:\n",
    "    print(\"Erreur de connexion :\", e)"
   ]
  },
  {
   "cell_type": "code",
   "execution_count": 2,
   "id": "4a7e7881-ec51-4a6d-96a8-80f5a3b7f0b2",
   "metadata": {},
   "outputs": [
    {
     "name": "stdout",
     "output_type": "stream",
     "text": [
      "     score_final  moy_bac_et nature_bac            Diplome    Specialite  \\\n",
      "508         0.95       12.20       MATH  licence appliquée  informatique   \n",
      "511        87.45       15.38       LETT  licence appliquée  informatique   \n",
      "512        85.51       16.58       MATH  licence appliquée  informatique   \n",
      "513        93.31       10.27       TECH  licence appliquée  informatique   \n",
      "515        11.73       16.98      SPORT  licence appliquée  informatique   \n",
      "\n",
      "     gouvernorat  Admission  \n",
      "508       Le Kef          0  \n",
      "511     Jendouba          1  \n",
      "512       Nabeul          1  \n",
      "513     Monastir         -1  \n",
      "515  Sidi Bouzid         -1  \n"
     ]
    },
    {
     "name": "stderr",
     "output_type": "stream",
     "text": [
      "C:\\Users\\souha\\AppData\\Local\\Temp\\ipykernel_25796\\973473603.py:2: UserWarning: pandas only supports SQLAlchemy connectable (engine/connection) or database string URI or sqlite3 DBAPI2 connection. Other DBAPI2 objects are not tested. Please consider using SQLAlchemy.\n",
      "  fact = pd.read_sql_query('SELECT TOP 1000 * FROM [DW_PI].[dbo].[fact_date2]', conn)\n",
      "C:\\Users\\souha\\AppData\\Local\\Temp\\ipykernel_25796\\973473603.py:3: UserWarning: pandas only supports SQLAlchemy connectable (engine/connection) or database string URI or sqlite3 DBAPI2 connection. Other DBAPI2 objects are not tested. Please consider using SQLAlchemy.\n",
      "  bac = pd.read_sql_query('SELECT * FROM [DW_PI].[dbo].[Dim_Bac]', conn)\n",
      "C:\\Users\\souha\\AppData\\Local\\Temp\\ipykernel_25796\\973473603.py:4: UserWarning: pandas only supports SQLAlchemy connectable (engine/connection) or database string URI or sqlite3 DBAPI2 connection. Other DBAPI2 objects are not tested. Please consider using SQLAlchemy.\n",
      "  diplome = pd.read_sql_query('SELECT * FROM [DW_PI].[dbo].[Dim_Diplome]', conn)\n",
      "C:\\Users\\souha\\AppData\\Local\\Temp\\ipykernel_25796\\973473603.py:5: UserWarning: pandas only supports SQLAlchemy connectable (engine/connection) or database string URI or sqlite3 DBAPI2 connection. Other DBAPI2 objects are not tested. Please consider using SQLAlchemy.\n",
      "  gouvernorat = pd.read_sql_query('SELECT * FROM [DW_PI].[dbo].[Dim_Gouvernorat]', conn)\n"
     ]
    }
   ],
   "source": [
    "# Récupérer les données des tables\n",
    "fact = pd.read_sql_query('SELECT TOP 1000 * FROM [DW_PI].[dbo].[fact_date2]', conn)\n",
    "bac = pd.read_sql_query('SELECT * FROM [DW_PI].[dbo].[Dim_Bac]', conn)\n",
    "diplome = pd.read_sql_query('SELECT * FROM [DW_PI].[dbo].[Dim_Diplome]', conn)\n",
    "gouvernorat = pd.read_sql_query('SELECT * FROM [DW_PI].[dbo].[Dim_Gouvernorat]', conn)\n",
    "\n",
    "# Fusionner les tables comme précédemment\n",
    "df = fact.merge(bac[['Bac_Pk', 'nature_bac']], on='Bac_Pk', how='left')\n",
    "df = df.merge(diplome[['Diplome_Pk', 'Diplome', 'Specialite']], on='Diplome_Pk', how='left')\n",
    "df = df.merge(gouvernorat[['Gouv_PK', 'gouvernorat']], on='Gouv_PK', how='left')\n",
    "\n",
    "# Garder les colonnes utiles\n",
    "df = df[['score_final', 'moy_bac_et', 'nature_bac', 'Diplome', 'Specialite', 'gouvernorat', 'Admission']]\n",
    "\n",
    "# Supprimer les lignes avec des valeurs manquantes\n",
    "df.dropna(inplace=True)\n",
    "\n",
    "# Afficher les premières lignes pour vérifier les données\n",
    "print(df.head())"
   ]
  },
  {
   "cell_type": "markdown",
   "id": "93335494-93bf-45be-a089-17dd776b6f29",
   "metadata": {},
   "source": [
    "## Encodage des variables catégorielles"
   ]
  },
  {
   "cell_type": "code",
   "execution_count": 3,
   "id": "e9c33f32-4228-4891-b0a7-fb894a00422a",
   "metadata": {},
   "outputs": [
    {
     "name": "stdout",
     "output_type": "stream",
     "text": [
      "     score_final  moy_bac_et  nature_bac  Diplome  Specialite  gouvernorat  \\\n",
      "508         0.95       12.20           3        2           3            9   \n",
      "511        87.45       15.38           2        2           3            5   \n",
      "512        85.51       16.58           3        2           3           14   \n",
      "513        93.31       10.27           6        2           3           13   \n",
      "515        11.73       16.98           5        2           3           16   \n",
      "\n",
      "     Admission  \n",
      "508          0  \n",
      "511          1  \n",
      "512          1  \n",
      "513         -1  \n",
      "515         -1  \n"
     ]
    }
   ],
   "source": [
    "from sklearn.preprocessing import LabelEncoder\n",
    "\n",
    "# Liste des colonnes catégorielles\n",
    "categorical_columns = ['nature_bac', 'Diplome', 'Specialite', 'gouvernorat']\n",
    "\n",
    "# Initialiser le LabelEncoder\n",
    "le = LabelEncoder()\n",
    "\n",
    "# Encoder chaque colonne catégorielle\n",
    "for col in categorical_columns:\n",
    "    df[col] = le.fit_transform(df[col].astype(str))\n",
    "\n",
    "# Vérifier les premières lignes après encodage\n",
    "print(df.head())\n"
   ]
  },
  {
   "cell_type": "markdown",
   "id": "041cf06d-7741-4e05-bd13-d01119d3e1b7",
   "metadata": {},
   "source": [
    "##  Séparation des données et normalisation"
   ]
  },
  {
   "cell_type": "code",
   "execution_count": 4,
   "id": "f526ecb6-0a87-4e90-a7fd-7af2acb12c3b",
   "metadata": {},
   "outputs": [
    {
     "name": "stdout",
     "output_type": "stream",
     "text": [
      "[[-1.78885009 -0.74701723  0.06600185  1.5868094   1.5744018  -0.22168808]\n",
      " [ 1.17739449  0.81062929 -0.48401355  1.5868094   1.5744018  -0.82084506]\n",
      " [ 1.11086831  1.39842043  0.06600185  1.5868094   1.5744018   0.52725814]\n",
      " [ 1.3783447  -1.69238131  1.71604805  1.5868094   1.5744018   0.3774689 ]\n",
      " [-1.41918401  1.59435081  1.16603265  1.5868094   1.5744018   0.82683663]]\n"
     ]
    }
   ],
   "source": [
    "from sklearn.model_selection import train_test_split\n",
    "from sklearn.preprocessing import StandardScaler\n",
    "\n",
    "# Séparer les caractéristiques et la variable cible\n",
    "X = df.drop('Admission', axis=1)  # Supprimer la colonne cible 'Admission'\n",
    "y = df['Admission']  # Variable cible\n",
    "\n",
    "# Normalisation des données\n",
    "scaler = StandardScaler()\n",
    "X_scaled = scaler.fit_transform(X)  # Normaliser les données\n",
    "\n",
    "# Vérifier les premières lignes des données normalisées\n",
    "print(X_scaled[:5])\n"
   ]
  },
  {
   "cell_type": "markdown",
   "id": "c0cc13a5-5552-47c4-a796-efd6f4aab2da",
   "metadata": {},
   "source": [
    "## Application de KMeans"
   ]
  },
  {
   "cell_type": "code",
   "execution_count": 5,
   "id": "0a76e385-7caa-4d72-8d80-120bd62c81fd",
   "metadata": {},
   "outputs": [
    {
     "name": "stderr",
     "output_type": "stream",
     "text": [
      "C:\\Users\\souha\\anaconda3\\Lib\\site-packages\\sklearn\\cluster\\_kmeans.py:870: FutureWarning: The default value of `n_init` will change from 10 to 'auto' in 1.4. Set the value of `n_init` explicitly to suppress the warning\n",
      "  warnings.warn(\n",
      "C:\\Users\\souha\\anaconda3\\Lib\\site-packages\\sklearn\\cluster\\_kmeans.py:1382: UserWarning: KMeans is known to have a memory leak on Windows with MKL, when there are less chunks than available threads. You can avoid it by setting the environment variable OMP_NUM_THREADS=1.\n",
      "  warnings.warn(\n"
     ]
    },
    {
     "name": "stdout",
     "output_type": "stream",
     "text": [
      "     Admission  Cluster\n",
      "508          0        0\n",
      "511          1        0\n",
      "512          1        0\n",
      "513         -1        0\n",
      "515         -1        0\n"
     ]
    }
   ],
   "source": [
    "from sklearn.cluster import KMeans\n",
    "\n",
    "# Appliquer KMeans\n",
    "kmeans = KMeans(n_clusters=3, random_state=42)  # Choisir le nombre de clusters\n",
    "kmeans.fit(X_scaled)\n",
    "\n",
    "# Récupérer les prédictions (clusters) pour chaque échantillon\n",
    "y_kmeans = kmeans.predict(X_scaled)\n",
    "\n",
    "# Ajouter les prédictions au DataFrame\n",
    "df['Cluster'] = y_kmeans\n",
    "\n",
    "# Afficher les premiers résultats avec les clusters\n",
    "print(df[['Admission', 'Cluster']].head())\n"
   ]
  },
  {
   "cell_type": "code",
   "execution_count": 6,
   "id": "30711efb-65c5-44fe-8400-8aab153b2e66",
   "metadata": {},
   "outputs": [
    {
     "name": "stdout",
     "output_type": "stream",
     "text": [
      "Cluster\n",
      "0    20\n",
      "1    33\n",
      "2    22\n",
      "dtype: int64\n",
      "Centres des clusters :\n",
      "[[ 0.15131391  0.54857241  0.12100339  1.24482462  1.35410304 -0.1992197 ]\n",
      " [-0.30663186 -0.73825973  0.14933751 -0.07129865 -0.16128539  0.31846101]\n",
      " [ 0.32238969  0.60868741 -0.33400935 -1.02471077 -0.98907467 -0.29658271]]\n"
     ]
    },
    {
     "data": {
      "image/png": "[encoded data removed]",
      "text/plain": [
       "<Figure size 800x600 with 1 Axes>"
      ]
     },
     "metadata": {},
     "output_type": "display_data"
    }
   ],
   "source": [
    "# Afficher la répartition des candidats par cluster\n",
    "print(df.groupby('Cluster').size())\n",
    "\n",
    "# Afficher les centres des clusters\n",
    "print(\"Centres des clusters :\")\n",
    "print(kmeans.cluster_centers_)\n",
    "\n",
    "# Visualisation des clusters (optionnel, si vous voulez visualiser les clusters)\n",
    "import matplotlib.pyplot as plt\n",
    "\n",
    "# Si vous avez plus de 2 dimensions, vous pouvez utiliser PCA pour réduire à 2 dimensions\n",
    "from sklearn.decomposition import PCA\n",
    "\n",
    "# Réduire à 2 dimensions avec PCA\n",
    "pca = PCA(n_components=2)\n",
    "X_pca = pca.fit_transform(X_scaled)\n",
    "\n",
    "# Visualiser les clusters dans un graphique 2D\n",
    "plt.figure(figsize=(8, 6))\n",
    "plt.scatter(X_pca[:, 0], X_pca[:, 1], c=y_kmeans, cmap='viridis')\n",
    "plt.title('Clusters après KMeans')\n",
    "plt.xlabel('PCA 1')\n",
    "plt.ylabel('PCA 2')\n",
    "plt.show()\n"
   ]
  },
  {
   "cell_type": "markdown",
   "id": "7a55e594-0da4-43b6-860f-b2155ebd23ce",
   "metadata": {},
   "source": [
    "## Application du KNN "
   ]
  },
  {
   "cell_type": "code",
   "execution_count": 10,
   "id": "21ab9bde-9c64-44be-a120-445b0a1e90e9",
   "metadata": {},
   "outputs": [
    {
     "name": "stdout",
     "output_type": "stream",
     "text": [
      "Précision moyenne pour k=3: 0.8400\n",
      "Précision moyenne pour k=5: 0.9067\n",
      "Précision moyenne pour k=7: 0.9067\n",
      "Précision moyenne pour k=9: 0.9067\n",
      "Précision moyenne pour k=11: 0.9333\n",
      "\n",
      "Le meilleur k est: 11\n",
      "Exactitude avec le meilleur k (11) : 0.87\n"
     ]
    }
   ],
   "source": [
    "from sklearn.model_selection import cross_val_score\n",
    "from sklearn.neighbors import KNeighborsClassifier\n",
    "import numpy as np\n",
    "\n",
    "# Essayer différents k\n",
    "k_values = [3, 5, 7, 9, 11]\n",
    "cv_scores = []\n",
    "\n",
    "# Testons les performances pour chaque valeur de k avec validation croisée\n",
    "for k in k_values:\n",
    "    knn = KNeighborsClassifier(n_neighbors=k)\n",
    "    cv_score = cross_val_score(knn, X_scaled, y_kmeans, cv=5, scoring='accuracy')\n",
    "    cv_scores.append(np.mean(cv_score))\n",
    "\n",
    "# Afficher les résultats\n",
    "for k, score in zip(k_values, cv_scores):\n",
    "    print(f\"Précision moyenne pour k={k}: {score:.4f}\")\n",
    "    \n",
    "# Choisir le meilleur k (avec la meilleure précision moyenne)\n",
    "best_k = k_values[np.argmax(cv_scores)]\n",
    "print(f\"\\nLe meilleur k est: {best_k}\")\n",
    "\n",
    "# Entraîner le modèle final avec le meilleur k\n",
    "knn_best = KNeighborsClassifier(n_neighbors=best_k)\n",
    "knn_best.fit(X_train, y_train)\n",
    "\n",
    "# Prédictions et évaluation\n",
    "y_pred_best = knn_best.predict(X_test)\n",
    "accuracy_best = accuracy_score(y_test, y_pred_best)\n",
    "print(f\"Exactitude avec le meilleur k ({best_k}) : {accuracy_best:.2f}\")\n"
   ]
  },
  {
   "cell_type": "markdown",
   "id": "c4ee26cb-3d8a-418f-b10c-aafe2214c62c",
   "metadata": {},
   "source": [
    "## TEST"
   ]
  },
  {
   "cell_type": "code",
   "execution_count": 16,
   "id": "85abaa14-3a75-42e1-85c3-fc548b836c7b",
   "metadata": {},
   "outputs": [
    {
     "name": "stdout",
     "output_type": "stream",
     "text": [
      "Interprétation : LISTE ATTENTE\n"
     ]
    }
   ],
   "source": [
    "from sklearn.neighbors import KNeighborsClassifier\n",
    "import numpy as np\n",
    "\n",
    "# Entraîner le modèle avec le meilleur k\n",
    "best_k = 11\n",
    "knn = KNeighborsClassifier(n_neighbors=best_k)\n",
    "knn.fit(X_train, y_train)  # X_train et y_train doivent être déjà préparés\n",
    "\n",
    "# Dictionnaire d'interprétation\n",
    "interpretation = {\n",
    "    -1: 'REFUSE(E)',\n",
    "    0: 'LISTE ATTENTE',\n",
    "    1: 'ADMIS(E)'\n",
    "}\n",
    "\n",
    "# Fonction de prédiction\n",
    "def predire_classification(moyenne_bac, score_final, nature_bac, diplome, specialite, gouvernorat):\n",
    "    # Assurez-vous que toutes les caractéristiques sont incluses dans l'ordre\n",
    "    features = [moyenne_bac, score_final, nature_bac, diplome, specialite, gouvernorat]\n",
    "    \n",
    "    # Prédiction de la classe avec le modèle KNN\n",
    "    prediction = knn_best.predict([features])  # Notez que la prédiction retourne un tableau, donc [features] pour une instance\n",
    "    return prediction[0]  # Retourner la première classe prédite (la seule dans ce cas)\n",
    "\n",
    "# Exemple d'entrée\n",
    "moyenne_bac = 14.5\n",
    "score_final = 90.0\n",
    "nature_bac = 1  # Nature du Bac (encodée)\n",
    "diplome = 2     # Diplôme (encodé)\n",
    "specialite = 3  # Spécialité (encodée)\n",
    "gouvernorat = 4  # Gouvernorat (encodé)\n",
    "\n",
    "# Test de la prédiction\n",
    "predicted_class = predire_classification(moyenne_bac, score_final, nature_bac, diplome, specialite, gouvernorat)\n",
    "\n",
    "# Afficher l'interprétation\n",
    "print(f\"Interprétation : {interpretation[predicted_class]}\")"
   ]
  },
  {
   "cell_type": "code",
   "execution_count": 17,
   "id": "f046a8e5-f017-461a-bd58-5908251b9834",
   "metadata": {},
   "outputs": [],
   "source": [
    "import pickle\n",
    "\n",
    "# Enregistrer le modèle dans un fichier pickle\n",
    "with open('knn_model_Classification.pkl', 'wb') as f:\n",
    "    pickle.dump(knn_best, f)\n"
   ]
  },
  {
   "cell_type": "code",
   "execution_count": null,
   "id": "384eadc6-5685-4593-a994-46ddd8be0b2f",
   "metadata": {},
   "outputs": [],
   "source": [
    "import joblib\n",
    "\n",
    "model_classification = joblib.load('knn_model_Classification.pkl')\n"
   ]
  },
  {
   "cell_type": "code",
   "execution_count": null,
   "id": "73768f69-922d-42c3-a46e-f4c4731d8a97",
   "metadata": {},
   "outputs": [],
   "source": []
  }
 ],
 "metadata": {
  "kernelspec": {
   "display_name": "Python 3 (ipykernel)",
   "language": "python",
   "name": "python3"
  },
  "language_info": {
   "codemirror_mode": {
    "name": "ipython",
    "version": 3
   },
   "file_extension": ".py",
   "mimetype": "text/x-python",
   "name": "python",
   "nbconvert_exporter": "python",
   "pygments_lexer": "ipython3",
   "version": "3.11.7"
  }
 },
 "nbformat": 4,
 "nbformat_minor": 5
}
