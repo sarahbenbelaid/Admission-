{
 "cells": [
  {
   "cell_type": "code",
   "execution_count": 1,
   "id": "d3e4b91e-56d5-49d8-8900-3392de027ec7",
   "metadata": {},
   "outputs": [
    {
     "name": "stdout",
     "output_type": "stream",
     "text": [
      "   Candidature_Pk  Dossier_Pk  Candidat_pk  Gouv_PK  Pays_Pk  Diplome_Pk  \\\n",
      "0             113        1773          113       17       32           0   \n",
      "1             125        1936          125        7       32           0   \n",
      "2             169         169          169       13       32           0   \n",
      "3             258         258          258       10       32           0   \n",
      "4             302         302          302       16       32           0   \n",
      "\n",
      "   Concours_Pk  Bac_Pk  Date_Pk1  Date_Pk2  Date_Pk3  Date_Pk4  Date_Pk5  \\\n",
      "0           39       2  20220724  20230808  20230811  20230815  20220812   \n",
      "1           41       3  20220722  20210814  20210801  20210805  20220726   \n",
      "2           43       1  20220721  20210806  20210811  20210815  20220706   \n",
      "3           37       6  20220717  20220811  20230801  20230805  20220709   \n",
      "4           43      10  20220717  20210806  20210811  20210815  20220806   \n",
      "\n",
      "   score_final  moy_bac_et  Admission  \n",
      "0        95.35       14.50          0  \n",
      "1        32.09       16.32          0  \n",
      "2        94.18       11.12         -1  \n",
      "3        87.00       14.53         -1  \n",
      "4         4.75       14.29          1  \n"
     ]
    }
   ],
   "source": [
    "import pandas as pd\n",
    "import sqlalchemy\n",
    "\n",
    "# Paramètres de connexion à la base de données SQL Server\n",
    "server = 'DESKTOP-NTA9A3K'  # Remplace par le vrai nom de ton serveur\n",
    "database = 'DW_PI7'  # Remplace par le nom de ta base de données\n",
    "driver = 'ODBC Driver 17 for SQL Server'  # Assure-toi que ce driver est installé\n",
    "\n",
    "# Création de l'engine SQLAlchemy pour se connecter à la base de données\n",
    "engine = sqlalchemy.create_engine(f\"mssql+pyodbc://{server}/{database}?trusted_connection=yes&driver={driver}\")\n",
    "\n",
    "# Vérifier la connexion et charger les données\n",
    "with engine.connect() as conn:\n",
    "    # Charger la table de faits\n",
    "    query_facts = \"SELECT * FROM fact_date2\"\n",
    "    df = pd.read_sql(query_facts, conn)\n",
    "\n",
    "    # Charger les tables de dimensions\n",
    "    query_dim_bac = \"SELECT * FROM Dim_Bac\"\n",
    "    query_dim_candidat = \"SELECT * FROM Dim_Candidat\"\n",
    "    query_dim_gouvernorat = \"SELECT * FROM Dim_Gouvernorat\"\n",
    "    query_dim_pays = \"SELECT * FROM Dim_Payss\"\n",
    "    query_dim_dossiers = \"SELECT * FROM Dim_Dossiers\"\n",
    "    query_dim_diplome = \"SELECT * FROM Dim_Diplome\"\n",
    "    query_dim_concour = \"SELECT * FROM Dim_Concour\"\n",
    "    query_dim_date = \"SELECT * FROM Dim_date\"\n",
    "\n",
    "    dim_bac = pd.read_sql(query_dim_bac, conn)\n",
    "    dim_candidat = pd.read_sql(query_dim_candidat, conn)\n",
    "    dim_gouvernorat = pd.read_sql(query_dim_gouvernorat, conn)\n",
    "    dim_pays = pd.read_sql(query_dim_pays, conn)\n",
    "    dim_dossiers = pd.read_sql(query_dim_dossiers, conn)\n",
    "    dim_diplome= pd.read_sql(query_dim_diplome, conn)\n",
    "    dim_concour = pd.read_sql(query_dim_concour, conn)\n",
    "    dim_date = pd.read_sql(query_dim_date, conn)\n",
    "\n",
    "\n",
    "# Vérification des données fusionnées\n",
    "print(df.head())\n",
    " \n",
    "\n"
   ]
  },
  {
   "cell_type": "code",
   "execution_count": 17,
   "id": "582f62eb-eeff-41fa-af85-7214b7e58ea4",
   "metadata": {},
   "outputs": [],
   "source": [
    "df_merged = df.merge(dim_bac, on='Bac_Pk', how='left')\n",
    "df_merged = df_merged.merge(dim_diplome, on='Diplome_Pk', how='left')"
   ]
  },
  {
   "cell_type": "code",
   "execution_count": 21,
   "id": "5c721475-8cdb-40cc-938e-78d1af8361dd",
   "metadata": {},
   "outputs": [
    {
     "name": "stdout",
     "output_type": "stream",
     "text": [
      "['Candidature_Pk', 'Dossier_Pk', 'Candidat_pk', 'Gouv_PK', 'Pays_Pk', 'Diplome_Pk', 'Concours_Pk', 'Bac_Pk', 'Date_Pk1', 'Date_Pk2', 'Date_Pk3', 'Date_Pk4', 'Date_Pk5', 'score_final', 'moy_bac_et', 'Admission', 'nature_bac_x', 'Mention_x', 'nature_bac_encoded', 'Mention_encoded', 'nature_bac_y', 'bac', 'Mention_y', 'Diplome', 'Faculte', 'annee_souhaite', 'Cin', 'Specialite']\n"
     ]
    }
   ],
   "source": [
    "print(df_merged.columns.tolist())\n"
   ]
  },
  {
   "cell_type": "code",
   "execution_count": 23,
   "id": "0a23fac2-15e4-4338-80c9-a55a0ce4b13c",
   "metadata": {},
   "outputs": [],
   "source": [
    "df_merged = df_merged.rename(columns={'Mention_x': 'Mention', 'nature_bac_x': 'nature_bac'})\n"
   ]
  },
  {
   "cell_type": "code",
   "execution_count": 25,
   "id": "dccdea12-c768-479b-8217-9f60a008b1fa",
   "metadata": {},
   "outputs": [],
   "source": [
    "features = ['score_final', 'moy_bac_et', 'Mention', 'nature_bac']\n",
    "df_final = df_merged[features].copy()"
   ]
  },
  {
   "cell_type": "code",
   "execution_count": 27,
   "id": "13382fb3-db9a-4bde-ba54-2526f8bcb739",
   "metadata": {},
   "outputs": [],
   "source": [
    "df_final.dropna(inplace=True)  # Supprimer les lignes avec valeurs manquantes"
   ]
  },
  {
   "cell_type": "code",
   "execution_count": 43,
   "id": "c4e1dd32-09d4-410d-a305-362dfab9e785",
   "metadata": {},
   "outputs": [],
   "source": [
    "df_final['classe_internationale'] = ((df_final['score_final'] > 80) & \n",
    "                                    (df_final['moy_bac_et'] > 14)).astype(int)"
   ]
  },
  {
   "cell_type": "code",
   "execution_count": 45,
   "id": "b14fc876-f150-401d-b163-14589a8c58cd",
   "metadata": {},
   "outputs": [
    {
     "name": "stdout",
     "output_type": "stream",
     "text": [
      "classe_internationale\n",
      "0    64\n",
      "1    11\n",
      "Name: count, dtype: int64\n"
     ]
    }
   ],
   "source": [
    "print(df_final['classe_internationale'].value_counts())"
   ]
  },
  {
   "cell_type": "code",
   "execution_count": 49,
   "id": "14837e59-e8ae-4901-ae0d-bf317c0a5deb",
   "metadata": {},
   "outputs": [],
   "source": [
    "mention_order = ['مقبول', 'جيد', 'جيد جدا', 'ممتاز']  # Du plus bas au plus haut\n",
    "\n",
    "# Transformer directement la colonne 'Mention' en Categorical avec un ordre\n",
    "df_final['Mention'] = pd.Categorical(df_final['Mention'], categories=mention_order, ordered=True)\n",
    "\n",
    "# Puis récupérer les codes associés\n",
    "df_final['Mention_code'] = df_final['Mention'].cat.codes\n"
   ]
  },
  {
   "cell_type": "code",
   "execution_count": 51,
   "id": "7992c47d-12a6-4326-bb2d-3cc400e563b1",
   "metadata": {},
   "outputs": [],
   "source": [
    "df_final = pd.get_dummies(df_final, columns=['nature_bac'], prefix='bac')"
   ]
  },
  {
   "cell_type": "code",
   "execution_count": 53,
   "id": "7a9212b1-fdd2-4d01-8925-f4abd9ba86a1",
   "metadata": {},
   "outputs": [],
   "source": [
    "from sklearn.model_selection import train_test_split\n",
    "\n",
    "X = df_final[['score_final', 'moy_bac_et', 'Mention_code'] + \n",
    "             [col for col in df_final.columns if col.startswith('bac_')]]\n",
    "y = df_final['classe_internationale']\n",
    "\n",
    "X_train, X_test, y_train, y_test = train_test_split(\n",
    "    X, y, test_size=0.3, random_state=42, stratify=y\n",
    ")"
   ]
  },
  {
   "cell_type": "code",
   "execution_count": 55,
   "id": "545df40f-c9a7-45a2-a4a0-97f06e598343",
   "metadata": {},
   "outputs": [],
   "source": [
    "from sklearn.preprocessing import StandardScaler\n",
    "\n",
    "scaler = StandardScaler()\n",
    "num_cols = ['score_final', 'moy_bac_et', 'Mention_code']\n",
    "X_train[num_cols] = scaler.fit_transform(X_train[num_cols])\n",
    "X_test[num_cols] = scaler.transform(X_test[num_cols])"
   ]
  },
  {
   "cell_type": "code",
   "execution_count": 59,
   "id": "9a6a48ba-a358-4a31-8085-b1e9131a223f",
   "metadata": {},
   "outputs": [
    {
     "name": "stdout",
     "output_type": "stream",
     "text": [
      "--- Logistic Regression ---\n",
      "              precision    recall  f1-score   support\n",
      "\n",
      "           0       0.95      0.90      0.92        20\n",
      "           1       0.50      0.67      0.57         3\n",
      "\n",
      "    accuracy                           0.87        23\n",
      "   macro avg       0.72      0.78      0.75        23\n",
      "weighted avg       0.89      0.87      0.88        23\n",
      "\n",
      "--- Decision Tree ---\n",
      "              precision    recall  f1-score   support\n",
      "\n",
      "           0       1.00      1.00      1.00        20\n",
      "           1       1.00      1.00      1.00         3\n",
      "\n",
      "    accuracy                           1.00        23\n",
      "   macro avg       1.00      1.00      1.00        23\n",
      "weighted avg       1.00      1.00      1.00        23\n",
      "\n",
      "--- Random Forest ---\n",
      "              precision    recall  f1-score   support\n",
      "\n",
      "           0       0.95      1.00      0.98        20\n",
      "           1       1.00      0.67      0.80         3\n",
      "\n",
      "    accuracy                           0.96        23\n",
      "   macro avg       0.98      0.83      0.89        23\n",
      "weighted avg       0.96      0.96      0.95        23\n",
      "\n"
     ]
    }
   ],
   "source": [
    "from sklearn.linear_model import LogisticRegression\n",
    "from sklearn.tree import DecisionTreeClassifier\n",
    "from sklearn.ensemble import RandomForestClassifier\n",
    "from sklearn.metrics import classification_report\n",
    "\n",
    "\n",
    "models = {\n",
    "    \"Logistic Regression\": LogisticRegression(),\n",
    "    \"Decision Tree\": DecisionTreeClassifier(max_depth=3),\n",
    "    \"Random Forest\": RandomForestClassifier()\n",
    "}\n",
    "\n",
    "for name, model in models.items():\n",
    "    model.fit(X_train, y_train)\n",
    "    y_pred = model.predict(X_test)\n",
    "    print(f\"--- {name} ---\")\n",
    "    print(classification_report(y_test, y_pred))"
   ]
  },
  {
   "cell_type": "code",
   "execution_count": 61,
   "id": "b4814c1a-1602-475f-a1ef-e5978dadf4be",
   "metadata": {},
   "outputs": [],
   "source": [
    "from sklearn.model_selection import GridSearchCV\n",
    "\n",
    "param_grid = {\n",
    "    'n_estimators': [100, 200],\n",
    "    'max_depth': [None, 5, 10]\n",
    "}\n",
    "grid_search = GridSearchCV(RandomForestClassifier(), param_grid, cv=5)\n",
    "grid_search.fit(X_train, y_train)\n",
    "best_model = grid_search.best_estimator_"
   ]
  },
  {
   "cell_type": "code",
   "execution_count": 65,
   "id": "43f39a2e-e352-42bd-b1f4-e964aee1e9cd",
   "metadata": {},
   "outputs": [
    {
     "name": "stdout",
     "output_type": "stream",
     "text": [
      "              precision    recall  f1-score   support\n",
      "\n",
      "           0       0.95      1.00      0.98        20\n",
      "           1       1.00      0.67      0.80         3\n",
      "\n",
      "    accuracy                           0.96        23\n",
      "   macro avg       0.98      0.83      0.89        23\n",
      "weighted avg       0.96      0.96      0.95        23\n",
      "\n",
      "AUC: 0.98\n"
     ]
    },
    {
     "data": {
      "image/png": "[encoded data removed]",
      "text/plain": [
       "<Figure size 640x480 with 2 Axes>"
      ]
     },
     "metadata": {},
     "output_type": "display_data"
    }
   ],
   "source": [
    "from sklearn.metrics import confusion_matrix, roc_auc_score\n",
    "import seaborn as sns\n",
    "import matplotlib.pyplot as plt\n",
    "\n",
    "\n",
    "y_pred = best_model.predict(X_test)\n",
    "y_proba = best_model.predict_proba(X_test)[:, 1]\n",
    "\n",
    "# Matrice de confusion\n",
    "sns.heatmap(confusion_matrix(y_test, y_pred), annot=True, fmt='d')\n",
    "plt.xlabel('Prédit')\n",
    "plt.ylabel('Réel')\n",
    "\n",
    "# Rapport de classification\n",
    "print(classification_report(y_test, y_pred))\n",
    "\n",
    "# AUC-ROC\n",
    "print(f\"AUC: {roc_auc_score(y_test, y_proba):.2f}\")"
   ]
  },
  {
   "cell_type": "code",
   "execution_count": 89,
   "id": "7c867fb6-5691-415f-b28d-eff6ce4cac46",
   "metadata": {},
   "outputs": [],
   "source": [
    "import os\n",
    "import joblib\n",
    "import json\n",
    "\n",
    "# Créer le dossier s'il n'existe pas\n",
    "os.makedirs('modeles', exist_ok=True)\n",
    "\n",
    "# Sauvegarder le modèle et le scaler\n",
    "joblib.dump(best_model, 'modeles/classe_internationale_model.pkl')\n",
    "joblib.dump(scaler, 'modeles/scaler.pkl')\n",
    "\n",
    "# Sauvegarder les métadonnées\n",
    "metadata = {\n",
    "    'features': list(X.columns),\n",
    "    'mention_mapping': {i: cat for i, cat in enumerate(mention_order)},\n",
    "    'bac_columns': [col for col in df_final.columns if col.startswith('bac_')]\n",
    "}\n",
    "\n",
    "with open('modeles/metadata.json', 'w') as f:\n",
    "    json.dump(metadata, f)"
   ]
  },
  {
   "cell_type": "code",
   "execution_count": 91,
   "id": "d3d621cc-8662-442f-a282-c6be076a45aa",
   "metadata": {},
   "outputs": [
    {
     "name": "stdout",
     "output_type": "stream",
     "text": [
      "Contenu du dossier 'modeles':\n",
      "['classe_internationale_model.pkl', 'metadata.json', 'scaler.pkl']\n"
     ]
    }
   ],
   "source": [
    "print(\"Contenu du dossier 'modeles':\")\n",
    "print(os.listdir('modeles'))"
   ]
  },
  {
   "cell_type": "code",
   "execution_count": null,
   "id": "7d1b831c-a192-4487-aec8-2a2ccd6a0e16",
   "metadata": {},
   "outputs": [],
   "source": []
  }
 ],
 "metadata": {
  "kernelspec": {
   "display_name": "Python 3 (ipykernel)",
   "language": "python",
   "name": "python3"
  },
  "language_info": {
   "codemirror_mode": {
    "name": "ipython",
    "version": 3
   },
   "file_extension": ".py",
   "mimetype": "text/x-python",
   "name": "python",
   "nbconvert_exporter": "python",
   "pygments_lexer": "ipython3",
   "version": "3.12.4"
  }
 },
 "nbformat": 4,
 "nbformat_minor": 5
}
