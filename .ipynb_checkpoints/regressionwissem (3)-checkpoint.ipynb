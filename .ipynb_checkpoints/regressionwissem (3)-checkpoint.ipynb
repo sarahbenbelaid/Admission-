{
 "cells": [
  {
   "cell_type": "code",
   "execution_count": 1,
   "id": "b5b8b507-488e-4245-9cca-3081aa009d56",
   "metadata": {},
   "outputs": [
    {
     "name": "stdout",
     "output_type": "stream",
     "text": [
      "Requirement already satisfied: pyodbc in c:\\users\\benbe\\anaconda3\\lib\\site-packages (5.0.1)\n",
      "Requirement already satisfied: pandas in c:\\users\\benbe\\anaconda3\\lib\\site-packages (2.2.2)\n",
      "Requirement already satisfied: pyodbc in c:\\users\\benbe\\anaconda3\\lib\\site-packages (5.0.1)\n",
      "Requirement already satisfied: scikit-learn in c:\\users\\benbe\\anaconda3\\lib\\site-packages (1.4.2)\n",
      "Requirement already satisfied: numpy>=1.26.0 in c:\\users\\benbe\\anaconda3\\lib\\site-packages (from pandas) (1.26.4)\n",
      "Requirement already satisfied: python-dateutil>=2.8.2 in c:\\users\\benbe\\anaconda3\\lib\\site-packages (from pandas) (2.9.0.post0)\n",
      "Requirement already satisfied: pytz>=2020.1 in c:\\users\\benbe\\anaconda3\\lib\\site-packages (from pandas) (2024.1)\n",
      "Requirement already satisfied: tzdata>=2022.7 in c:\\users\\benbe\\anaconda3\\lib\\site-packages (from pandas) (2023.3)\n",
      "Requirement already satisfied: scipy>=1.6.0 in c:\\users\\benbe\\anaconda3\\lib\\site-packages (from scikit-learn) (1.13.1)\n",
      "Requirement already satisfied: joblib>=1.2.0 in c:\\users\\benbe\\anaconda3\\lib\\site-packages (from scikit-learn) (1.4.2)\n",
      "Requirement already satisfied: threadpoolctl>=2.0.0 in c:\\users\\benbe\\anaconda3\\lib\\site-packages (from scikit-learn) (2.2.0)\n",
      "Requirement already satisfied: six>=1.5 in c:\\users\\benbe\\anaconda3\\lib\\site-packages (from python-dateutil>=2.8.2->pandas) (1.16.0)\n"
     ]
    }
   ],
   "source": [
    "get_ipython().system('pip install pyodbc')\n",
    "get_ipython().system('pip install pandas pyodbc scikit-learn')"
   ]
  },
  {
   "cell_type": "code",
   "execution_count": 2,
   "id": "6d776e63-1ff2-498f-a184-b629a95a9015",
   "metadata": {},
   "outputs": [],
   "source": [
    "import pandas as pd\n",
    "import numpy as np\n",
    "from sklearn.model_selection import train_test_split\n",
    "from sklearn.preprocessing import StandardScaler, OneHotEncoder, LabelEncoder\n",
    "from imblearn.over_sampling import SMOTE"
   ]
  },
  {
   "cell_type": "code",
   "execution_count": 3,
   "id": "2aeb920e-cb1d-44e2-a944-e8dde013e61e",
   "metadata": {},
   "outputs": [
    {
     "name": "stdout",
     "output_type": "stream",
     "text": [
      "Requirement already satisfied: sqlalchemy in c:\\users\\benbe\\anaconda3\\lib\\site-packages (2.0.30)\n",
      "Requirement already satisfied: typing-extensions>=4.6.0 in c:\\users\\benbe\\anaconda3\\lib\\site-packages (from sqlalchemy) (4.11.0)\n",
      "Requirement already satisfied: greenlet!=0.4.17 in c:\\users\\benbe\\anaconda3\\lib\\site-packages (from sqlalchemy) (3.0.1)\n"
     ]
    }
   ],
   "source": [
    "!pip install sqlalchemy"
   ]
  },
  {
   "cell_type": "code",
   "execution_count": 4,
   "id": "e5934579-ae35-42fe-bb65-77fc72f4960f",
   "metadata": {},
   "outputs": [
    {
     "name": "stdout",
     "output_type": "stream",
     "text": [
      "Connexion réussie!\n",
      "                                             diplome  \\\n",
      "0  Ecole Supérieure Privée d'Ingénierie et de Tec...   \n",
      "1  Université libre de Tunis, Software engineerin...   \n",
      "2  Université libre de Tunis, Software engineerin...   \n",
      "3  Ecole Supérieure Privée d'Ingénierie et de Tec...   \n",
      "4  Ecole Supérieure Privée d'Ingénierie et de Tec...   \n",
      "\n",
      "                            offre entreprise_location dateDiplome  \\\n",
      "0               Flutter Developer               Tunis  2013-07-13   \n",
      "1      Embedded Software Designer              Ariana  2013-11-06   \n",
      "2                   Data Engineer              Ariana  2013-11-06   \n",
      "3  GuideWire Associate Consultant              Tunis   2017-09-05   \n",
      "4            Full-stack Developer               Tunis  2017-09-05   \n",
      "\n",
      "  date_firstjob     salaire  \n",
      "0    2013-09-29   €25k–€85k  \n",
      "1    2015-09-09   €25k–€85k  \n",
      "2    2015-09-09   €25k–€85k  \n",
      "3    2019-11-22  €40k–€100k  \n",
      "4    2019-11-22   €25k–€85k  \n"
     ]
    }
   ],
   "source": [
    "import pyodbc\n",
    "import pandas as pd\n",
    "from sqlalchemy import create_engine\n",
    "\n",
    "# Paramètres de connexion\n",
    "server = 'SARAHBB-01'  \n",
    "\n",
    "database = 'DW_PI'      \n",
    "username = 'sa'      \n",
    "password = 'sarah'  \n",
    "\n",
    "# 📌 Construire l'URL de connexion pour SQLAlchemy\n",
    "conn_str = f\"mssql+pyodbc://{username}:{password}@{server}/{database}?driver=ODBC+Driver+17+for+SQL+Server\"\n",
    "\n",
    "# 📌 Créer un moteur SQLAlchemy\n",
    "engine = create_engine(conn_str)\n",
    "\n",
    "try:\n",
    "    with engine.connect() as conn:\n",
    "        print(\"Connexion réussie!\")\n",
    "\n",
    "        # 📌 Requête SQL\n",
    "        query = \"\"\"\n",
    "      SELECT \n",
    "    \n",
    "        e.diplome,\n",
    "        o.offre, et.entreprise_location, e.dateDiplome,e.date_firstjob, \n",
    "        s.salaire\n",
    "FROM fact_employabilite f\n",
    "JOIN Dim_Entreprise et ON f.Fk_Entreprise = et.Pk_Entreprise\n",
    "JOIN Dim_Etudiant e ON f.Etudiant_Fk = e.Etudiant_Pk\n",
    "JOIN Dim_Offre o ON f.Fk_Offre = o.Pk_Offre\n",
    "JOIN Dim_Salaire s ON f.FK_Salaire = s.Salaire_Pk\n",
    "\"\"\"\n",
    "\n",
    "        # 📌 Lire les données avec pandas et SQLAlchemy\n",
    "        df = pd.read_sql(query, conn)\n",
    "\n",
    "        # 📌 Afficher les premières lignes\n",
    "        print(df.head())\n",
    "\n",
    "except Exception as e:\n",
    "    print(f\"Erreur: {e}\")"
   ]
  },
  {
   "cell_type": "code",
   "execution_count": 5,
   "id": "974cfe81-2b8c-4d5e-a597-d3ef2c14f945",
   "metadata": {},
   "outputs": [
    {
     "name": "stdout",
     "output_type": "stream",
     "text": [
      "                                               diplome  \\\n",
      "0    Ecole Supérieure Privée d'Ingénierie et de Tec...   \n",
      "1    Université libre de Tunis, Software engineerin...   \n",
      "2    Université libre de Tunis, Software engineerin...   \n",
      "3    Ecole Supérieure Privée d'Ingénierie et de Tec...   \n",
      "4    Ecole Supérieure Privée d'Ingénierie et de Tec...   \n",
      "..                                                 ...   \n",
      "222  Ecole Supérieure Privée d'Ingénierie et de Tec...   \n",
      "223  Institut Supérieur de Gestion de Tunis, Licenc...   \n",
      "224  Institut Supérieur de Gestion de Tunis, Licenc...   \n",
      "225  Institut Supérieur de Gestion de Tunis, Licenc...   \n",
      "226  Institut Supérieur de Gestion de Tunis, Licenc...   \n",
      "\n",
      "                              offre entreprise_location dateDiplome  \\\n",
      "0                 Flutter Developer               Tunis  2013-07-13   \n",
      "1        Embedded Software Designer              Ariana  2013-11-06   \n",
      "2                     Data Engineer              Ariana  2013-11-06   \n",
      "3    GuideWire Associate Consultant              Tunis   2017-09-05   \n",
      "4              Full-stack Developer               Tunis  2017-09-05   \n",
      "..                              ...                 ...         ...   \n",
      "222               DevOps Consultant               Dubai  2022-10-19   \n",
      "223                    Data Analyst               Tunis  2018-10-04   \n",
      "224               Android Developer               Tunis  2018-10-04   \n",
      "225                  Data Scientist               Dubai  2018-10-04   \n",
      "226          Cyber Security Analyst           AMSTERDAM  2018-10-04   \n",
      "\n",
      "    date_firstjob     salaire  \\\n",
      "0      2013-09-29   €25k–€85k   \n",
      "1      2015-09-09   €25k–€85k   \n",
      "2      2015-09-09   €25k–€85k   \n",
      "3      2019-11-22  €40k–€100k   \n",
      "4      2019-11-22   €25k–€85k   \n",
      "..            ...         ...   \n",
      "222    2025-01-21   €25k–€85k   \n",
      "223    2020-12-12   €30k–€80k   \n",
      "224    2020-12-12   €25k–€85k   \n",
      "225    2020-12-12  €35k–€100k   \n",
      "226    2020-12-12   €30k–€80k   \n",
      "\n",
      "                                            universite         diplome_part1  \\\n",
      "0    Ecole Supérieure Privée d'Ingénierie et de Tec...                  None   \n",
      "1                            Université libre de Tunis  Software engineering   \n",
      "2                            Université libre de Tunis  Software engineering   \n",
      "3    Ecole Supérieure Privée d'Ingénierie et de Tec...     Engineer's degree   \n",
      "4    Ecole Supérieure Privée d'Ingénierie et de Tec...     Engineer's degree   \n",
      "..                                                 ...                   ...   \n",
      "222  Ecole Supérieure Privée d'Ingénierie et de Tec...     Engineer's degree   \n",
      "223             Institut Supérieur de Gestion de Tunis               Licence   \n",
      "224             Institut Supérieur de Gestion de Tunis               Licence   \n",
      "225             Institut Supérieur de Gestion de Tunis               Licence   \n",
      "226             Institut Supérieur de Gestion de Tunis               Licence   \n",
      "\n",
      "                      diplome_part2 diplome_part3  \n",
      "0                              None          None  \n",
      "1         université Libre de Tunis          None  \n",
      "2         université Libre de Tunis          None  \n",
      "3              Computer Engineering          None  \n",
      "4              Computer Engineering          None  \n",
      "..                              ...           ...  \n",
      "222  Technologies de l''information          None  \n",
      "223                   IT Management          None  \n",
      "224                   IT Management          None  \n",
      "225                   IT Management          None  \n",
      "226                   IT Management          None  \n",
      "\n",
      "[227 rows x 10 columns]\n"
     ]
    }
   ],
   "source": [
    "import pandas as pd\n",
    "\n",
    "\n",
    "\n",
    "# Séparer l’université et le type de diplôme\n",
    "df[[\"universite\", \"diplome_type\"]] = df[\"diplome\"].str.split(\",\", n=1, expand=True)\n",
    "\n",
    "# Supprimer les espaces inutiles\n",
    "df[\"universite\"] = df[\"universite\"].str.strip()\n",
    "df[\"diplome_type\"] = df[\"diplome_type\"].str.strip()\n",
    "\n",
    "# Séparer 'diplome_type' en plusieurs parties (jusqu'à 6 colonnes)\n",
    "df_split = df[\"diplome_type\"].str.split(',', expand=True, n=5)\n",
    "\n",
    "# Renommer les nouvelles colonnes\n",
    "df_split.columns = [f\"diplome_part{i+1}\" for i in range(df_split.shape[1])]\n",
    "\n",
    "# Supprimer les espaces inutiles dans les nouvelles colonnes\n",
    "df_split = df_split.apply(lambda x: x.str.strip())\n",
    "\n",
    "# Ajouter ces colonnes au DataFrame d’origine\n",
    "df = df.join(df_split)\n",
    "\n",
    "# Supprimer la colonne 'diplome_type' car elle est maintenant inutilisée\n",
    "df.drop(columns=[\"diplome_type\"], inplace=True)\n",
    "\n",
    "# Afficher le DataFrame mis à jour\n",
    "print(df)\n"
   ]
  },
  {
   "cell_type": "code",
   "execution_count": 6,
   "id": "e058b243-04ab-4e33-8ae0-9ea8ecddc0ac",
   "metadata": {},
   "outputs": [
    {
     "name": "stdout",
     "output_type": "stream",
     "text": [
      "<class 'pandas.core.frame.DataFrame'>\n",
      "RangeIndex: 227 entries, 0 to 226\n",
      "Data columns (total 10 columns):\n",
      " #   Column               Non-Null Count  Dtype         \n",
      "---  ------               --------------  -----         \n",
      " 0   diplome              227 non-null    object        \n",
      " 1   offre                227 non-null    object        \n",
      " 2   entreprise_location  227 non-null    object        \n",
      " 3   dateDiplome          224 non-null    datetime64[ns]\n",
      " 4   date_firstjob        224 non-null    datetime64[ns]\n",
      " 5   salaire              227 non-null    object        \n",
      " 6   universite           227 non-null    object        \n",
      " 7   diplome_part1        227 non-null    object        \n",
      " 8   diplome_part2        227 non-null    object        \n",
      " 9   diplome_part3        227 non-null    object        \n",
      "dtypes: datetime64[ns](2), object(8)\n",
      "memory usage: 17.9+ KB\n",
      "None\n",
      "                                             diplome  \\\n",
      "0  Ecole Supérieure Privée d'Ingénierie et de Tec...   \n",
      "1  Université libre de Tunis, Software engineerin...   \n",
      "2  Université libre de Tunis, Software engineerin...   \n",
      "3  Ecole Supérieure Privée d'Ingénierie et de Tec...   \n",
      "4  Ecole Supérieure Privée d'Ingénierie et de Tec...   \n",
      "\n",
      "                            offre entreprise_location dateDiplome  \\\n",
      "0               Flutter Developer               Tunis  2013-07-13   \n",
      "1      Embedded Software Designer              Ariana  2013-11-06   \n",
      "2                   Data Engineer              Ariana  2013-11-06   \n",
      "3  GuideWire Associate Consultant              Tunis   2017-09-05   \n",
      "4            Full-stack Developer               Tunis  2017-09-05   \n",
      "\n",
      "  date_firstjob     salaire  \\\n",
      "0    2013-09-29   €25k–€85k   \n",
      "1    2015-09-09   €25k–€85k   \n",
      "2    2015-09-09   €25k–€85k   \n",
      "3    2019-11-22  €40k–€100k   \n",
      "4    2019-11-22   €25k–€85k   \n",
      "\n",
      "                                          universite         diplome_part1  \\\n",
      "0  Ecole Supérieure Privée d'Ingénierie et de Tec...               Inconnu   \n",
      "1                          Université libre de Tunis  Software engineering   \n",
      "2                          Université libre de Tunis  Software engineering   \n",
      "3  Ecole Supérieure Privée d'Ingénierie et de Tec...     Engineer's degree   \n",
      "4  Ecole Supérieure Privée d'Ingénierie et de Tec...     Engineer's degree   \n",
      "\n",
      "               diplome_part2 diplome_part3  \n",
      "0                    Inconnu       Inconnu  \n",
      "1  université Libre de Tunis       Inconnu  \n",
      "2  université Libre de Tunis       Inconnu  \n",
      "3       Computer Engineering       Inconnu  \n",
      "4       Computer Engineering       Inconnu  \n"
     ]
    }
   ],
   "source": [
    "# Importer les bibliothèques\n",
    "import pandas as pd\n",
    "\n",
    "# Suppression des doublons si nécessaire\n",
    "df = df.drop_duplicates()\n",
    "\n",
    "# Remplacement des valeurs manquantes (exemple : remplir avec 'Inconnu' ou 'NA' selon le besoin)\n",
    "df.fillna(\"Inconnu\", inplace=True)\n",
    "\n",
    "# Convertir les colonnes de dates au format datetime\n",
    "df[\"dateDiplome\"] = pd.to_datetime(df[\"dateDiplome\"], errors=\"coerce\")\n",
    "df[\"date_firstjob\"] = pd.to_datetime(df[\"date_firstjob\"], errors=\"coerce\")\n",
    "\n",
    "# Vérification après nettoyage\n",
    "print(df.info())\n",
    "print(df.head())\n"
   ]
  },
  {
   "cell_type": "code",
   "execution_count": 7,
   "id": "4ccb56c7-acb9-4a94-b3fd-0ba5e34f7d0f",
   "metadata": {},
   "outputs": [
    {
     "name": "stdout",
     "output_type": "stream",
     "text": [
      "Prétraitement terminé. Données sauvegardées.\n"
     ]
    }
   ],
   "source": [
    "import pandas as pd\n",
    "from sklearn.preprocessing import OneHotEncoder\n",
    "\n",
    "\n",
    "# 1. Gestion des valeurs manquantes\n",
    "df.dropna(subset=[\"dateDiplome\", \"date_firstjob\"], inplace=True)  # Suppression des lignes avec valeurs nulles\n",
    "\n",
    "# 2. Feature Engineering : Ancienneté avant emploi\n",
    "df[\"ancienneté_avant_emploi\"] = (df[\"date_firstjob\"] - df[\"dateDiplome\"]).dt.days\n",
    "\n",
    "# 3. Encodage des variables catégorielles\n",
    "encoder = OneHotEncoder(drop=\"first\", sparse_output=False)\n",
    "\n",
    "categorical_features = [\"universite\", \"diplome_part1\", \"diplome_part2\", \"diplome_part3\", \"offre\", \"entreprise_location\"]\n",
    "encoded_features = encoder.fit_transform(df[categorical_features])\n",
    "\n",
    "# Création d'un DataFrame encodé\n",
    "encoded_df = pd.DataFrame(encoded_features, columns=encoder.get_feature_names_out(categorical_features))\n",
    "\n",
    "# Concaténation avec le DataFrame original\n",
    "final_df = pd.concat([df, encoded_df], axis=1).drop(columns=categorical_features)\n",
    "\n",
    "# Sauvegarde des données préparées\n",
    "final_df.to_csv(\"data_prepared.csv\", index=False)\n",
    "\n",
    "print(\"Prétraitement terminé. Données sauvegardées.\")\n"
   ]
  },
  {
   "cell_type": "code",
   "execution_count": 8,
   "id": "1c0663e5-e987-4187-9c67-9f898ecdc57e",
   "metadata": {},
   "outputs": [],
   "source": [
    "import pandas as pd\n",
    "from sklearn.preprocessing import OneHotEncoder, StandardScaler\n",
    "\n",
    "\n",
    "\n",
    "# 1. Gestion des valeurs manquantes\n",
    "df.dropna(subset=[\"dateDiplome\", \"date_firstjob\"], inplace=True)  # Suppression des lignes avec valeurs nulles\n",
    "\n",
    "# 2. Feature Engineering : Ancienneté avant emploi\n",
    "df[\"ancienneté_avant_emploi\"] = (df[\"date_firstjob\"] - df[\"dateDiplome\"]).dt.days\n",
    "\n",
    "# 3. Encodage des variables catégorielles\n",
    "encoder = OneHotEncoder(drop=\"first\", sparse_output=False)\n",
    "categorical_features = [\"universite\", \"diplome_part1\", \"diplome_part2\", \"diplome_part3\", \"offre\", \"entreprise_location\"]\n",
    "encoded_features = encoder.fit_transform(df[categorical_features])\n",
    "\n",
    "# Création d'un DataFrame encodé\n",
    "encoded_df = pd.DataFrame(encoded_features, columns=encoder.get_feature_names_out(categorical_features))\n",
    "\n",
    "# Concaténation avec le DataFrame original\n",
    "final_df = pd.concat([df, encoded_df], axis=1).drop(columns=categorical_features)\n",
    "\n",
    "# 4. Séparation des données (X, y)\n",
    "y = final_df[\"salaire\"]  # Cible\n",
    "X = final_df.drop(columns=[\"salaire\", \"diplome\"])  # Supprimer toute colonne résiduelle non traitée\n",
    "\n",
    "# 5. Normalisation uniquement sur les colonnes numériques\n",
    "numeric_cols = X.select_dtypes(include=[\"int64\", \"float64\"]).columns\n",
    "scaler = StandardScaler()\n",
    "X_scaled_numeric = scaler.fit_transform(X[numeric_cols])\n",
    "\n",
    "# Conserver les colonnes déjà encodées (non numériques)\n",
    "non_numeric_cols = X.drop(columns=numeric_cols).reset_index(drop=True)\n",
    "X_scaled_df = pd.DataFrame(X_scaled_numeric, columns=numeric_cols).reset_index(drop=True)\n",
    "X_final = pd.concat([X_scaled_df, non_numeric_cols], axis=1)\n",
    "\n",
    "# Sauvegarde des données transformées\n",
    "X_final.to_csv(\"X_scaled.csv\", index=False)\n",
    "y.to_csv(\"y.csv\", index=False)\n"
   ]
  },
  {
   "cell_type": "code",
   "execution_count": 9,
   "id": "189957a7-bc79-4519-bbb1-eeea9bc8a794",
   "metadata": {},
   "outputs": [],
   "source": [
    "# Nettoyage de la colonne 'salaire' pour extraire les salaires minimum et maximum\n",
    "df['salaire_min'] = df['salaire'].apply(lambda x: int(x.split('–')[0].replace('€', '').replace('k', '').strip()) * 1000 if isinstance(x, str) else None)\n",
    "df['salaire_max'] = df['salaire'].apply(lambda x: int(x.split('–')[1].replace('€', '').replace('k', '').strip()) * 1000 if isinstance(x, str) else None)\n",
    "\n",
    "# Vous pouvez choisir de prédire le salaire moyen entre le minimum et le maximum\n",
    "df['salaire_moyen'] = (df['salaire_min'] + df['salaire_max']) / 2\n",
    "\n",
    "# Vous pouvez maintenant utiliser 'salaire_moyen' comme votre variable cible (y)\n",
    "y = df['salaire_moyen']\n"
   ]
  },
  {
   "cell_type": "code",
   "execution_count": 10,
   "id": "948730e0-cc78-42a5-a6c6-447719a4c9d1",
   "metadata": {},
   "outputs": [],
   "source": [
    "df[\"ancienneté_avant_emploi\"] = (pd.to_datetime(df[\"date_firstjob\"]) - pd.to_datetime(df[\"dateDiplome\"])).dt.days\n"
   ]
  },
  {
   "cell_type": "code",
   "execution_count": 13,
   "id": "1530c9b0-e9fe-442c-b73a-5aa67e15bc65",
   "metadata": {},
   "outputs": [
    {
     "name": "stdout",
     "output_type": "stream",
     "text": [
      "X shape: (227, 233)\n",
      "y shape: (224,)\n",
      "Des valeurs manquantes ont été trouvées dans X. Les imputations vont être effectuées.\n",
      "\n",
      "Linear Regression\n",
      "MSE: 911021.75\n",
      "R²: 0.98\n"
     ]
    },
    {
     "data": {
      "image/png": "[encoded data removed]",
      "text/plain": [
       "<Figure size 600x400 with 1 Axes>"
      ]
     },
     "metadata": {},
     "output_type": "display_data"
    }
   ],
   "source": [
    "from sklearn.impute import SimpleImputer\n",
    "import matplotlib.pyplot as plt\n",
    "from sklearn.model_selection import train_test_split\n",
    "from sklearn.preprocessing import OneHotEncoder, StandardScaler\n",
    "from sklearn.linear_model import LinearRegression\n",
    "from sklearn.metrics import mean_squared_error, r2_score\n",
    "import pandas as pd\n",
    "\n",
    "# 1. Nettoyage des données et gestion des valeurs manquantes\n",
    "df.dropna(subset=[\"dateDiplome\", \"date_firstjob\"], inplace=True)  # Supprimer les lignes avec des valeurs manquantes dans ces colonnes\n",
    "\n",
    "# Sélectionner à nouveau la cible (y) après suppression\n",
    "df['salaire_min'] = df['salaire'].apply(lambda x: int(x.split('–')[0].replace('€', '').replace('k', '').strip()) * 1000 if isinstance(x, str) else None)\n",
    "df['salaire_max'] = df['salaire'].apply(lambda x: int(x.split('–')[1].replace('€', '').replace('k', '').strip()) * 1000 if isinstance(x, str) else None)\n",
    "df['salaire_moyen'] = (df['salaire_min'] + df['salaire_max']) / 2\n",
    "\n",
    "# Mettre à jour y après avoir supprimé les lignes\n",
    "y = df['salaire_moyen']\n",
    "df = df[df[\"salaire_moyen\"].notna()]\n",
    "\n",
    "# 2. Feature Engineering et encodage des variables catégorielles\n",
    "df[\"ancienneté_avant_emploi\"] = (pd.to_datetime(df[\"date_firstjob\"]) - pd.to_datetime(df[\"dateDiplome\"])).dt.days\n",
    "\n",
    "encoder = OneHotEncoder(drop=\"first\", sparse_output=False)\n",
    "categorical_features = [\"universite\", \"diplome_part1\", \"diplome_part2\", \"diplome_part3\", \"offre\", \"entreprise_location\"]\n",
    "encoded_features = encoder.fit_transform(df[categorical_features])\n",
    "\n",
    "encoded_df = pd.DataFrame(encoded_features, columns=encoder.get_feature_names_out(categorical_features))\n",
    "\n",
    "# Concaténation avec le DataFrame original et suppression des colonnes catégorielles\n",
    "final_df = pd.concat([df, encoded_df], axis=1).drop(columns=categorical_features)\n",
    "\n",
    "# Séparation des variables explicatives (X) et de la cible (y)\n",
    "X = final_df.drop(columns=[\"salaire\", \"salaire_moyen\", \"diplome\", \"dateDiplome\", \"date_firstjob\"])\n",
    "\n",
    "# Réinitialisation de l'index pour X et y pour s'assurer qu'ils sont cohérents\n",
    "X = X.reset_index(drop=True)\n",
    "y = y.reset_index(drop=True)\n",
    "\n",
    "# 3. Vérification des tailles pour s'assurer que X et y ont le même nombre de lignes\n",
    "print(f\"X shape: {X.shape}\")\n",
    "print(f\"y shape: {y.shape}\")\n",
    "\n",
    "# Si nécessaire, nous ajustons les tailles des données\n",
    "if len(X) != len(y):\n",
    "    min_len = min(len(X), len(y))\n",
    "    X = X.iloc[:min_len]\n",
    "    y = y.iloc[:min_len]\n",
    "\n",
    "# 4. Vérification des valeurs manquantes dans X avant normalisation\n",
    "if X.isnull().sum().sum() > 0:\n",
    "    print(\"Des valeurs manquantes ont été trouvées dans X. Les imputations vont être effectuées.\")\n",
    "\n",
    "    # Imputer les valeurs manquantes avec la moyenne pour les colonnes numériques\n",
    "    imputer = SimpleImputer(strategy=\"mean\")\n",
    "    X_imputed = imputer.fit_transform(X)\n",
    "    \n",
    "    # Réinitialiser le DataFrame pour garder les noms de colonnes\n",
    "    X = pd.DataFrame(X_imputed, columns=X.columns)\n",
    "\n",
    "# 5. Normalisation des données\n",
    "numeric_cols = X.select_dtypes(include=[\"int64\", \"float64\"]).columns\n",
    "scaler = StandardScaler()\n",
    "X_scaled_numeric = scaler.fit_transform(X[numeric_cols])\n",
    "\n",
    "# Conserver les colonnes non numériques (encodées)\n",
    "non_numeric_cols = X.drop(columns=numeric_cols).reset_index(drop=True)\n",
    "X_scaled_df = pd.DataFrame(X_scaled_numeric, columns=numeric_cols).reset_index(drop=True)\n",
    "X_final = pd.concat([X_scaled_df, non_numeric_cols], axis=1)\n",
    "\n",
    "# 6. Séparation des données en jeu d'entraînement et jeu de test\n",
    "X_train, X_test, y_train, y_test = train_test_split(X_final, y, test_size=0.2, random_state=42)\n",
    "\n",
    "# 7. Entraînement des modèles\n",
    "models = {\n",
    "    \"Linear Regression\": LinearRegression(),\n",
    "}\n",
    "\n",
    "for name, model in models.items():\n",
    "    model.fit(X_train, y_train)\n",
    "    y_pred = model.predict(X_test)\n",
    "    mse = mean_squared_error(y_test, y_pred)\n",
    "    r2 = r2_score(y_test, y_pred)\n",
    "    print(f\"\\n{name}\")\n",
    "    print(f\"MSE: {mse:.2f}\")\n",
    "    print(f\"R²: {r2:.2f}\")\n",
    "\n",
    "    # Affichage du scatter plot\n",
    "    plt.figure(figsize=(6, 4))\n",
    "    plt.scatter(y_test, y_pred, alpha=0.7)\n",
    "    plt.plot([y.min(), y.max()], [y.min(), y.max()], color='red', linestyle='--')  # Ligne idéale\n",
    "    plt.title(f\"{name} - Réel vs Prédit\")\n",
    "    plt.xlabel(\"Valeurs réelles\")\n",
    "    plt.ylabel(\"Valeurs prédites\")\n",
    "    plt.grid(True)\n",
    "    plt.tight_layout()\n",
    "    plt.show()\n",
    "\n",
    "\n"
   ]
  },
  {
   "cell_type": "code",
   "execution_count": 26,
   "id": "48f767db-e629-4677-9582-03940924f68b",
   "metadata": {},
   "outputs": [
    {
     "data": {
      "text/plain": [
       "['reg/model/model.pkl']"
      ]
     },
     "execution_count": 26,
     "metadata": {},
     "output_type": "execute_result"
    }
   ],
   "source": [
    "import joblib\n",
    "\n",
    "# Sauvegarder les artefacts\n",
    "joblib.dump(encoder, 'reg/model/encoder.pkl')\n",
    "joblib.dump(scaler, 'reg/model/scaler.pkl')\n",
    "joblib.dump(model, 'reg/model/model.pkl')"
   ]
  },
  {
   "cell_type": "code",
   "execution_count": 30,
   "id": "6c89f103-6e5e-40d6-88d5-5aa7866bbd0f",
   "metadata": {},
   "outputs": [],
   "source": [
    "import json\n",
    "\n",
    "# Obtenir la liste complète des caractéristiques attendues par le modèle\n",
    "FEATURES = list(X_final.columns)\n",
    "\n",
    "# Sauvegarder la liste des caractéristiques\n",
    "with open('reg/model/features.json', 'w') as f:\n",
    "    json.dump(FEATURES, f)"
   ]
  },
  {
   "cell_type": "code",
   "execution_count": 34,
   "id": "35f67274-f364-4706-826a-b87e76f0f37f",
   "metadata": {},
   "outputs": [
    {
     "name": "stdout",
     "output_type": "stream",
     "text": [
      "<class 'sklearn.preprocessing._encoders.OneHotEncoder'>\n"
     ]
    }
   ],
   "source": [
    "# Dans votre script d'entraînement\n",
    "from sklearn.preprocessing import OneHotEncoder\n",
    "import joblib\n",
    "\n",
    "# Réinitialiser et ré-entraîner l'encodeur\n",
    "encoder = OneHotEncoder(handle_unknown='ignore', sparse_output=False)\n",
    "encoder.fit(df[['universite', 'diplome_part1', 'diplome_part2', 'diplome_part3', 'offre', 'entreprise_location']])\n",
    "\n",
    "# Sauvegarder CORRECTEMENT l'encodeur\n",
    "joblib.dump(encoder, 'reg/model/encoder.pkl')\n",
    "\n",
    "# Vérification\n",
    "test_load = joblib.load('reg/model/encoder.pkl')\n",
    "print(type(test_load))  # Doit afficher: <class 'sklearn.preprocessing._encoders.OneHotEncoder'>"
   ]
  },
  {
   "cell_type": "code",
   "execution_count": 36,
   "id": "9a586f10-a71e-443a-95ba-3cb978e41797",
   "metadata": {},
   "outputs": [
    {
     "name": "stdout",
     "output_type": "stream",
     "text": [
      "True\n"
     ]
    }
   ],
   "source": [
    "# Vérifiez que l'encodeur est valide\n",
    "encoder = joblib.load('reg/model/encoder.pkl')\n",
    "print(hasattr(encoder, 'transform'))  # Doit retourner True"
   ]
  },
  {
   "cell_type": "code",
   "execution_count": 38,
   "id": "8f83ac32-0bec-4d7a-a148-d754d3d4dc84",
   "metadata": {},
   "outputs": [],
   "source": [
    "# Après l'entraînement du modèle\n",
    "import joblib\n",
    "import json\n",
    "\n",
    "# Sauvegarder le modèle\n",
    "joblib.dump(model, 'reg/model/model.pkl')\n",
    "\n",
    "# Sauvegarder l'ordre des features\n",
    "feature_names = X_train.columns.tolist()  # X_train est votre DataFrame d'entraînement\n",
    "with open('reg/model/feature_names.json', 'w') as f:\n",
    "    json.dump(feature_names, f)"
   ]
  },
  {
   "cell_type": "code",
   "execution_count": null,
   "id": "95438dce-e660-47ec-b414-5a5bf65ff10f",
   "metadata": {},
   "outputs": [],
   "source": []
  }
 ],
 "metadata": {
  "kernelspec": {
   "display_name": "Python 3 (ipykernel)",
   "language": "python",
   "name": "python3"
  },
  "language_info": {
   "codemirror_mode": {
    "name": "ipython",
    "version": 3
   },
   "file_extension": ".py",
   "mimetype": "text/x-python",
   "name": "python",
   "nbconvert_exporter": "python",
   "pygments_lexer": "ipython3",
   "version": "3.12.4"
  }
 },
 "nbformat": 4,
 "nbformat_minor": 5
}
