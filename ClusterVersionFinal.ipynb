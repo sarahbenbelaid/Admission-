{
 "cells": [
  {
   "cell_type": "code",
   "execution_count": 15,
   "id": "abf63672-6550-4848-a09a-bbf0d869a74b",
   "metadata": {},
   "outputs": [
    {
     "name": "stdout",
     "output_type": "stream",
     "text": [
      "   Candidature_Pk  Dossier_Pk  Candidat_pk  Gouv_PK  Pays_Pk  Diplome_Pk  \\\n",
      "0             113        1773          113       17       32           0   \n",
      "1             125        1936          125        7       32           0   \n",
      "2             169         169          169       13       32           0   \n",
      "3             258         258          258       10       32           0   \n",
      "4             302         302          302       16       32           0   \n",
      "\n",
      "   Concours_Pk  Bac_Pk  Date_Pk1  Date_Pk2  Date_Pk3  Date_Pk4  Date_Pk5  \\\n",
      "0           39       2  20220724  20230808  20230811  20230815  20220812   \n",
      "1           41       3  20220722  20210814  20210801  20210805  20220726   \n",
      "2           43       1  20220721  20210806  20210811  20210815  20220706   \n",
      "3           37       6  20220717  20220811  20230801  20230805  20220709   \n",
      "4           43      10  20220717  20210806  20210811  20210815  20220806   \n",
      "\n",
      "   score_final  moy_bac_et  Admission  \n",
      "0        95.35       14.50          0  \n",
      "1        32.09       16.32          0  \n",
      "2        94.18       11.12         -1  \n",
      "3        87.00       14.53         -1  \n",
      "4         4.75       14.29          1  \n"
     ]
    }
   ],
   "source": [
    "import pandas as pd\n",
    "import sqlalchemy\n",
    "\n",
    "# Paramètres de connexion à la base de données SQL Server\n",
    "server = 'DESKTOP-NTA9A3K'  # Remplace par le vrai nom de ton serveur\n",
    "database = 'DW_PI7'  # Remplace par le nom de ta base de données\n",
    "driver = 'ODBC Driver 17 for SQL Server'  # Assure-toi que ce driver est installé\n",
    "\n",
    "# Création de l'engine SQLAlchemy pour se connecter à la base de données\n",
    "engine = sqlalchemy.create_engine(f\"mssql+pyodbc://{server}/{database}?trusted_connection=yes&driver={driver}\")\n",
    "\n",
    "# Vérifier la connexion et charger les données\n",
    "with engine.connect() as conn:\n",
    "    # Charger la table de faits\n",
    "    query_facts = \"SELECT * FROM fact_date2\"\n",
    "    fact_date2 = pd.read_sql(query_facts, conn)\n",
    "\n",
    "    # Charger les tables de dimensions\n",
    "    query_dim_bac = \"SELECT * FROM Dim_Bac\"\n",
    "    query_dim_candidat = \"SELECT * FROM Dim_Candidat\"\n",
    "    query_dim_gouvernorat = \"SELECT * FROM Dim_Gouvernorat\"\n",
    "    query_dim_pays = \"SELECT * FROM Dim_Payss\"\n",
    "    query_dim_dossiers = \"SELECT * FROM Dim_Dossiers\"\n",
    "    query_dim_diplome = \"SELECT * FROM Dim_Diplome\"\n",
    "    query_dim_concour = \"SELECT * FROM Dim_Concour\"\n",
    "    query_dim_date = \"SELECT * FROM Dim_date\"\n",
    "\n",
    "    dim_bac = pd.read_sql(query_dim_bac, conn)\n",
    "    dim_candidat = pd.read_sql(query_dim_candidat, conn)\n",
    "    dim_gouvernorat = pd.read_sql(query_dim_gouvernorat, conn)\n",
    "    dim_pays = pd.read_sql(query_dim_pays, conn)\n",
    "    dim_dossiers = pd.read_sql(query_dim_dossiers, conn)\n",
    "    dim_diplome= pd.read_sql(query_dim_diplome, conn)\n",
    "    dim_concour = pd.read_sql(query_dim_concour, conn)\n",
    "    dim_date = pd.read_sql(query_dim_date, conn)\n",
    "\n",
    "\n",
    "\n",
    "\n",
    "\n",
    "# Vérification des données fusionnées\n",
    "print(fact_date2.head())"
   ]
  },
  {
   "cell_type": "code",
   "execution_count": 17,
   "id": "11bb3f4f-9f5d-4d2c-babf-52a5f7f9db06",
   "metadata": {},
   "outputs": [
    {
     "name": "stdout",
     "output_type": "stream",
     "text": [
      "Colonnes de fact_date2 : ['Candidature_Pk', 'Dossier_Pk', 'Candidat_pk', 'Gouv_PK', 'Pays_Pk', 'Diplome_Pk', 'Concours_Pk', 'Bac_Pk', 'Date_Pk1', 'Date_Pk2', 'Date_Pk3', 'Date_Pk4', 'Date_Pk5', 'score_final', 'moy_bac_et', 'Admission']\n",
      "Colonnes de dim_gouvernorat : ['Gouv_PK', 'code_gouv', 'gouvernorat']\n",
      "Colonnes de dim_bac : ['Bac_Pk', 'nature_bac', 'bac']\n"
     ]
    }
   ],
   "source": [
    "print(\"Colonnes de fact_date2 :\", fact_date2.columns.tolist())\n",
    "print(\"Colonnes de dim_gouvernorat :\", dim_gouvernorat.columns.tolist())\n",
    "print(\"Colonnes de dim_bac :\", dim_bac.columns.tolist())"
   ]
  },
  {
   "cell_type": "code",
   "execution_count": 19,
   "id": "41fd8ed7-0f75-4ae5-a463-9dfad76594f5",
   "metadata": {},
   "outputs": [],
   "source": [
    "# Jointure 1 : fact_date2 + dim_gouvernorat\n",
    "df = pd.merge(\n",
    "    left=fact_date2,\n",
    "    right=dim_gouvernorat,\n",
    "    left_on='Gouv_PK',\n",
    "    right_on='Gouv_PK',\n",
    "    how='left'\n",
    ")\n",
    "\n",
    "# Jointure 2 : Ajout de dim_bac\n",
    "df = pd.merge(\n",
    "    left=df,\n",
    "    right=dim_bac,\n",
    "    left_on='Bac_Pk',\n",
    "    right_on='Bac_Pk',\n",
    "    how='left'\n",
    ")"
   ]
  },
  {
   "cell_type": "code",
   "execution_count": 21,
   "id": "17c13026-2ab4-4034-9cbb-b39a0b9e38ee",
   "metadata": {},
   "outputs": [
    {
     "name": "stdout",
     "output_type": "stream",
     "text": [
      "Colonnes après fusion : ['Candidature_Pk', 'Dossier_Pk', 'Candidat_pk', 'Gouv_PK', 'Pays_Pk', 'Diplome_Pk', 'Concours_Pk', 'Bac_Pk', 'Date_Pk1', 'Date_Pk2', 'Date_Pk3', 'Date_Pk4', 'Date_Pk5', 'score_final', 'moy_bac_et', 'Admission', 'code_gouv', 'gouvernorat', 'nature_bac', 'bac']\n"
     ]
    }
   ],
   "source": [
    "print(\"Colonnes après fusion :\", df.columns.tolist())\n",
    "assert {'gouvernorat', 'score_final', 'moy_bac_et', 'Admission', 'nature_bac'}.issubset(df.columns)"
   ]
  },
  {
   "cell_type": "code",
   "execution_count": 23,
   "id": "35aeb1a5-455c-4bf3-b55e-9bbf95628ca4",
   "metadata": {},
   "outputs": [],
   "source": [
    "gov_stats = df.groupby('gouvernorat').agg({\n",
    "    'score_final': 'mean',\n",
    "    'moy_bac_et': 'mean',\n",
    "    'Admission': lambda x: (x == 1).mean(),\n",
    "    'Dossier_Pk': 'count',\n",
    "    'nature_bac': lambda x: x.mode()[0] if not x.empty else None\n",
    "}).rename(columns={\n",
    "    'Dossier_Pk': 'nb_candidats',\n",
    "    'Admission': 'taux_admission'\n",
    "})"
   ]
  },
  {
   "cell_type": "code",
   "execution_count": 25,
   "id": "efae69c2-132a-4866-93a0-5492aee492ed",
   "metadata": {},
   "outputs": [
    {
     "name": "stdout",
     "output_type": "stream",
     "text": [
      "             score_final  moy_bac_et  taux_admission  nb_candidats nature_bac\n",
      "gouvernorat                                                                  \n",
      "Ariana         45.839444   13.528333        0.222222            54      SCEXP\n",
      "Ben Arous      58.160750   13.614000        0.300000            40      SPORT\n",
      "Bizerte        58.039706   13.717353        0.323529            34       MATH\n",
      "Béja           47.268889   13.160278        0.388889            36      SPORT\n",
      "Gabès          50.081351   13.462432        0.297297            37      SPORT\n"
     ]
    }
   ],
   "source": [
    "gov_stats = gov_stats.dropna()\n",
    "print(gov_stats.head())"
   ]
  },
  {
   "cell_type": "code",
   "execution_count": 27,
   "id": "50256d20-4a20-454b-ae46-b85bf88330bf",
   "metadata": {},
   "outputs": [],
   "source": [
    "from sklearn.preprocessing import LabelEncoder\n",
    "le = LabelEncoder()\n",
    "gov_stats['bac_encoded'] = le.fit_transform(gov_stats['nature_bac'])"
   ]
  },
  {
   "cell_type": "code",
   "execution_count": 29,
   "id": "b9bb5063-39fa-40f4-931d-8ee38019d6cb",
   "metadata": {},
   "outputs": [],
   "source": [
    "from sklearn.preprocessing import StandardScaler\n",
    "features = ['score_final', 'moy_bac_et', 'taux_admission', 'nb_candidats', 'bac_encoded']\n",
    "scaler = StandardScaler()\n",
    "X_scaled = scaler.fit_transform(gov_stats[features])"
   ]
  },
  {
   "cell_type": "code",
   "execution_count": 31,
   "id": "bcef92eb-45c3-4b2e-b11b-7b90ce24e191",
   "metadata": {},
   "outputs": [
    {
     "data": {
      "image/png": "[encoded data removed]",
      "text/plain": [
       "<Figure size 640x480 with 1 Axes>"
      ]
     },
     "metadata": {},
     "output_type": "display_data"
    }
   ],
   "source": [
    "import pandas as pd\n",
    "from sklearn.preprocessing import StandardScaler, LabelEncoder\n",
    "from sklearn.cluster import KMeans\n",
    "import matplotlib.pyplot as plt\n",
    "import seaborn as sns\n",
    "from sklearn.cluster import KMeans\n",
    "inerties = []\n",
    "for k in range(1, 10):\n",
    "    kmeans = KMeans(n_clusters=k, random_state=42)\n",
    "    kmeans.fit(X_scaled)\n",
    "    inerties.append(kmeans.inertia_)\n",
    "\n",
    "plt.plot(range(1, 10), inerties, marker='o')\n",
    "plt.title('Méthode du Coude')\n",
    "plt.show()"
   ]
  },
  {
   "cell_type": "code",
   "execution_count": 33,
   "id": "c5903e68-6a60-4878-8339-bc674f824e7e",
   "metadata": {},
   "outputs": [],
   "source": [
    "kmeans = KMeans(n_clusters=3, random_state=42)\n",
    "gov_stats['cluster'] = kmeans.fit_predict(X_scaled)"
   ]
  },
  {
   "cell_type": "code",
   "execution_count": 35,
   "id": "d890188b-d96c-4406-b694-9d6bf83cae36",
   "metadata": {},
   "outputs": [],
   "source": [
    "from sklearn.decomposition import PCA\n",
    "pca = PCA(n_components=2)\n",
    "gov_stats[['PC1', 'PC2']] = pca.fit_transform(X_scaled)"
   ]
  },
  {
   "cell_type": "code",
   "execution_count": 37,
   "id": "cfaf29f9-436d-43a1-b7f5-99d1bacae0c4",
   "metadata": {},
   "outputs": [
    {
     "name": "stderr",
     "output_type": "stream",
     "text": [
      "C:\\Users\\user\\AppData\\Local\\Temp\\ipykernel_13020\\2731238929.py:13: FutureWarning: Series.__getitem__ treating keys as positions is deprecated. In a future version, integer keys will always be treated as labels (consistent with DataFrame behavior). To access a value by position, use `ser.iloc[pos]`\n",
      "  gov_stats['PC1'][line],\n",
      "C:\\Users\\user\\AppData\\Local\\Temp\\ipykernel_13020\\2731238929.py:14: FutureWarning: Series.__getitem__ treating keys as positions is deprecated. In a future version, integer keys will always be treated as labels (consistent with DataFrame behavior). To access a value by position, use `ser.iloc[pos]`\n",
      "  gov_stats['PC2'][line],\n"
     ]
    },
    {
     "data": {
      "image/png": "[encoded data removed]",
      "text/plain": [
       "<Figure size 1200x800 with 1 Axes>"
      ]
     },
     "metadata": {},
     "output_type": "display_data"
    }
   ],
   "source": [
    "plt.figure(figsize=(12, 8))\n",
    "scatter = sns.scatterplot(\n",
    "    data=gov_stats,\n",
    "    x='PC1', y='PC2',\n",
    "    hue='cluster',\n",
    "    palette='viridis',\n",
    "    s=100\n",
    ")\n",
    "\n",
    "# Ajout des étiquettes\n",
    "for line in range(gov_stats.shape[0]):\n",
    "    plt.text(\n",
    "        gov_stats['PC1'][line],\n",
    "        gov_stats['PC2'][line],\n",
    "        gov_stats.index[line],\n",
    "        fontsize=8\n",
    "    )\n",
    "\n",
    "plt.title('Clusters des Gouvernorats')\n",
    "plt.show()"
   ]
  },
  {
   "cell_type": "code",
   "execution_count": 29,
   "id": "014cb054-8394-469c-bbce-88dcbbc1608d",
   "metadata": {},
   "outputs": [],
   "source": [
    "# Exporter les données dans un fichier CSV\n",
    "gov_stats.to_csv(\"gouvernorats_clusters.csv\", index=True)\n"
   ]
  },
  {
   "cell_type": "code",
   "execution_count": 45,
   "id": "8e65c38e-3111-4b68-b1c4-21130ab52f40",
   "metadata": {},
   "outputs": [
    {
     "name": "stdout",
     "output_type": "stream",
     "text": [
      "        score_final           moy_bac_et taux_admission nb_candidats  \\\n",
      "               mean       std       mean           mean          sum   \n",
      "cluster                                                                \n",
      "0         48.646690  3.241756  13.537325       0.212691          148   \n",
      "1         46.074903  2.532920  13.435280       0.346035          206   \n",
      "2         55.292703  3.630688  13.296501       0.331087          593   \n",
      "\n",
      "        nature_bac  \n",
      "          <lambda>  \n",
      "cluster             \n",
      "0             ECOG  \n",
      "1             INFO  \n",
      "2            SPORT  \n"
     ]
    }
   ],
   "source": [
    "cluster_profile = gov_stats.groupby('cluster').agg({\n",
    "    'score_final': ['mean', 'std'],\n",
    "    'moy_bac_et': 'mean',\n",
    "    'taux_admission': 'mean',\n",
    "    'nb_candidats': 'sum',\n",
    "    'nature_bac': lambda x: x.mode()[0]\n",
    "})\n",
    "print(cluster_profile)"
   ]
  },
  {
   "cell_type": "code",
   "execution_count": 53,
   "id": "0a39ade7-27cd-4b64-ab9b-310c22b7beed",
   "metadata": {},
   "outputs": [],
   "source": [
    "# Essayer DBSCAN pour détection automatique du nombre de clusters\n",
    "from sklearn.cluster import DBSCAN\n",
    "dbscan = DBSCAN(eps=0.5, min_samples=3)\n",
    "gov_stats['cluster'] = dbscan.fit_predict(X_scaled)"
   ]
  },
  {
   "cell_type": "code",
   "execution_count": 57,
   "id": "cd60437b-9e3c-4a69-8c90-e82f0c0a7d76",
   "metadata": {},
   "outputs": [
    {
     "name": "stdout",
     "output_type": "stream",
     "text": [
      "Dimensions des données : (23, 5)\n",
      "Aperçu des données normalisées :\n",
      " [[-1.28982932  0.514019   -1.5984334   2.00277508  0.34998291]\n",
      " [ 1.12450247  0.77266206 -0.31239731 -0.18330484  0.85308335]\n",
      " [ 1.10078415  1.08470315  0.07665562 -1.12019623 -0.15311752]]\n"
     ]
    }
   ],
   "source": [
    "# Vérification des données avant DBSCAN\n",
    "print(\"Dimensions des données :\", X_scaled.shape)\n",
    "print(\"Aperçu des données normalisées :\\n\", X_scaled[:3])"
   ]
  },
  {
   "cell_type": "code",
   "execution_count": 59,
   "id": "185096a4-9c86-402e-a606-fffd38c69631",
   "metadata": {},
   "outputs": [],
   "source": [
    "from sklearn.cluster import DBSCAN\n",
    "import numpy as np\n",
    "\n",
    "# Paramètres initiaux (à ajuster)\n",
    "eps = 0.8  # Rayon de voisinage\n",
    "min_samples = 3  # Nombre minimum de points pour former un cluster\n",
    "\n",
    "dbscan = DBSCAN(eps=eps, min_samples=min_samples)"
   ]
  },
  {
   "cell_type": "code",
   "execution_count": 61,
   "id": "369be6fc-f136-4897-b2c0-9661fd7ec48d",
   "metadata": {},
   "outputs": [
    {
     "name": "stdout",
     "output_type": "stream",
     "text": [
      "Nombre de clusters trouvés : 1\n",
      "Points considérés comme bruit : 23\n",
      "Répartition des clusters :\n",
      " cluster_dbscan\n",
      "-1    23\n",
      "Name: count, dtype: int64\n"
     ]
    }
   ],
   "source": [
    "# Clustering\n",
    "gov_stats['cluster_dbscan'] = dbscan.fit_predict(X_scaled)\n",
    "\n",
    "# Analyse des résultats\n",
    "labels = gov_stats['cluster_dbscan']\n",
    "n_clusters = len(set(labels)) - (1 if -1 in labels else 0)\n",
    "n_noise = list(labels).count(-1)\n",
    "\n",
    "print(f\"Nombre de clusters trouvés : {n_clusters}\")\n",
    "print(f\"Points considérés comme bruit : {n_noise}\")\n",
    "print(\"Répartition des clusters :\\n\", gov_stats['cluster_dbscan'].value_counts())"
   ]
  },
  {
   "cell_type": "code",
   "execution_count": null,
   "id": "f79d6efa-91b4-4738-84ba-7ad691f6d16b",
   "metadata": {},
   "outputs": [],
   "source": []
  }
 ],
 "metadata": {
  "kernelspec": {
   "display_name": "Python 3 (ipykernel)",
   "language": "python",
   "name": "python3"
  },
  "language_info": {
   "codemirror_mode": {
    "name": "ipython",
    "version": 3
   },
   "file_extension": ".py",
   "mimetype": "text/x-python",
   "name": "python",
   "nbconvert_exporter": "python",
   "pygments_lexer": "ipython3",
   "version": "3.12.4"
  }
 },
 "nbformat": 4,
 "nbformat_minor": 5
}
